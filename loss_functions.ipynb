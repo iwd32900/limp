{
 "cells": [
  {
   "cell_type": "markdown",
   "id": "168750e4-4e0e-4731-8dc3-641f77ccfd30",
   "metadata": {},
   "source": [
    "Make a plot of the `Huber_loss()` function, in part to prove it's implemented correctly."
   ]
  },
  {
   "cell_type": "code",
   "execution_count": null,
   "id": "828c1c1b-8729-424b-ad79-58093f63a8f9",
   "metadata": {},
   "outputs": [],
   "source": [
    "import numpy as np\n",
    "import matplotlib.pyplot as plt\n",
    "import limp\n",
    "\n",
    "xs = np.linspace(-10, 10, num=101)\n",
    "ys = []\n",
    "for xval in xs:\n",
    "    p = limp.Problem()\n",
    "    # Force var x to a single value, then \"solve\" Huber_loss as the objective\n",
    "    x = p.contvar('x', xval, xval)\n",
    "    f = p.Huber_loss(x, 5, 5)\n",
    "    ys.append( p.minimize(f)['soln'].fun )\n",
    "\n",
    "plt.plot(xs, ys)"
   ]
  }
 ],
 "metadata": {
  "kernelspec": {
   "display_name": "Python 3 (ipykernel)",
   "language": "python",
   "name": "python3"
  },
  "language_info": {
   "codemirror_mode": {
    "name": "ipython",
    "version": 3
   },
   "file_extension": ".py",
   "mimetype": "text/x-python",
   "name": "python",
   "nbconvert_exporter": "python",
   "pygments_lexer": "ipython3",
   "version": "3.13.5"
  }
 },
 "nbformat": 4,
 "nbformat_minor": 5
}
