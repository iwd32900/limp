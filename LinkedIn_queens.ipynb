{
 "cells": [
  {
   "cell_type": "code",
   "execution_count": null,
   "id": "43b17350-cfe6-4710-9638-ffb0aac3a289",
   "metadata": {},
   "outputs": [],
   "source": [
    "import numpy as np\n",
    "import limp"
   ]
  },
  {
   "cell_type": "markdown",
   "id": "9724e565-9aca-4a4a-8b77-af64655c0996",
   "metadata": {},
   "source": [
    "# Linked In Queens\n",
    "\n",
    "Via <https://imiron.io/post/linkedin-queens/>\n",
    "\n",
    "You are given a N-colored square-shaped board of size N. You must place N queens on the board such that:\n",
    "- Each row, each column, and each color region has exactly one queen.\n",
    "- No two queens touch each other diagonally.\n",
    "\n",
    "These have no objective function per se -- we just try to find any feasible solution.\n",
    "They can be solved almost instantly."
   ]
  },
  {
   "cell_type": "code",
   "execution_count": null,
   "id": "57948b4d-48bf-41de-a2a9-ecc23cfa44e8",
   "metadata": {},
   "outputs": [],
   "source": [
    "# Sample problem on https://www.linkedin.com/games/queens\n",
    "problem1 = np.array(\n",
    "    [ [0, 1, 1, 1, 1],\n",
    "      [2, 3, 2, 1, 2],\n",
    "      [2, 3, 2, 1, 2],\n",
    "      [2, 2, 2, 4, 4],\n",
    "      [2, 2, 2, 2, 2]\n",
    "    ]\n",
    ")\n",
    "\n",
    "# https://queensgame.vercel.app/community-level/3\n",
    "problem4 = np.array(\n",
    "    [ [0, 0, 0, 1, 1, 1, 1],\n",
    "      [0, 0, 1, 1, 1, 1, 1],\n",
    "      [2, 2, 2, 1, 3, 3, 3],\n",
    "      [2, 4, 4, 4, 3, 3, 3],\n",
    "      [2, 4, 4, 4, 3, 3, 3],\n",
    "      [2, 4, 4, 4, 5, 5, 6],\n",
    "      [2, 2, 2, 2, 5, 5, 5]\n",
    "    ]\n",
    ")\n",
    "\n",
    "problem5 = np.array(\n",
    "    [ [0, 1, 1, 1, 2, 1, 1, 3],\n",
    "      [0, 0, 0, 1, 2, 2, 1, 3],\n",
    "      [1, 1, 1, 1, 1, 2, 1, 3],\n",
    "      [4, 4, 4, 1, 1, 1, 1, 3],\n",
    "      [4, 1, 1, 1, 1, 1, 1, 1],\n",
    "      [1, 1, 1, 1, 5, 1, 1, 6],\n",
    "      [7, 7, 1, 5, 5, 1, 6, 6],\n",
    "      [7, 7, 1, 5, 1, 1, 1, 6]\n",
    "    ]\n",
    ")"
   ]
  },
  {
   "cell_type": "code",
   "execution_count": null,
   "id": "c8d2e828-5510-43b8-8927-10f1990421c7",
   "metadata": {},
   "outputs": [],
   "source": [
    "colors = problem4\n",
    "N = colors.shape[0]\n",
    "p = limp.Problem()\n",
    "\n",
    "# 1 if a queen is present, 0 otherwise\n",
    "V = p.binvar_array('d', (N,N))\n",
    "\n",
    "# Exactly N queens:\n",
    "p.exactly(N, V.flatten())\n",
    "\n",
    "# 1 per row:\n",
    "for i in range(N):\n",
    "    p.exactly(1, V[i,:])\n",
    "\n",
    "# 1 per column:\n",
    "for j in range(N):\n",
    "    p.exactly(1, V[:,j])\n",
    "\n",
    "# 1 per color\n",
    "for c in range(N):\n",
    "    p.exactly(1, V[colors == c]) # look how compact!  I love it.\n",
    "\n",
    "# No diagonals:\n",
    "for i in range(N-1):\n",
    "    for j in range(N-1):\n",
    "        p.at_most(1, [V[i,j], V[i+1, j+1]]) # down and right\n",
    "        p.at_most(1, [V[i,j+1], V[i+1, j]]) # down and left\n",
    "\n",
    "ans = p.solve() # no objective, just find an answer\n",
    "\n",
    "print(f'# variables:  {len(ans['vs'])}')\n",
    "print(f'# constraints:  {len(ans['constraints'].A)}')\n",
    "print(ans['soln'].message)\n",
    "\n",
    "x = np.vectorize(lambda x: ans['by_var'][x])(V).round()\n",
    "\n",
    "# lowercase letters for colors, uppercase for queens:\n",
    "def map_soln(colors, x):\n",
    "    c = colors + ord('a') + (ord('A') - ord('a'))*x\n",
    "    return np.vectorize(chr)(c.astype('int'))\n",
    "    return c\n",
    "\n",
    "print(map_soln(colors, x))"
   ]
  }
 ],
 "metadata": {
  "kernelspec": {
   "display_name": "Python 3 (ipykernel)",
   "language": "python",
   "name": "python3"
  },
  "language_info": {
   "codemirror_mode": {
    "name": "ipython",
    "version": 3
   },
   "file_extension": ".py",
   "mimetype": "text/x-python",
   "name": "python",
   "nbconvert_exporter": "python",
   "pygments_lexer": "ipython3",
   "version": "3.13.5"
  }
 },
 "nbformat": 4,
 "nbformat_minor": 5
}
