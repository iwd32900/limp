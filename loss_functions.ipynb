{
 "cells": [
  {
   "cell_type": "markdown",
   "id": "168750e4-4e0e-4731-8dc3-641f77ccfd30",
   "metadata": {},
   "source": [
    "Make a plot of the `Huber_loss()` function, in part to prove it's implemented correctly."
   ]
  },
  {
   "cell_type": "code",
   "execution_count": null,
   "id": "01712431-ed28-4576-bf49-0a4c00f6ac13",
   "metadata": {},
   "outputs": [],
   "source": [
    "import numpy as np\n",
    "import matplotlib.pyplot as plt\n",
    "import limp"
   ]
  },
  {
   "cell_type": "code",
   "execution_count": null,
   "id": "d92be212-31eb-458d-b7d0-0573709bb8ff",
   "metadata": {},
   "outputs": [],
   "source": [
    "xs = np.linspace(-10, 10, num=101)\n",
    "ys = []\n",
    "for xval in xs:\n",
    "    p = limp.Problem()\n",
    "    # Force var x to a single value, then \"solve\" Huber_loss as the objective\n",
    "    x = p.contvar('x', xval, xval)\n",
    "    f = p.Huber_loss(x, 5, 5)\n",
    "    ys.append( p.minimize(f)['soln'].fun )\n",
    "\n",
    "plt.plot(xs, ys)"
   ]
  },
  {
   "cell_type": "code",
   "execution_count": null,
   "id": "a0d1e134-3f8e-43c3-93f7-a38a8dc117b7",
   "metadata": {},
   "outputs": [],
   "source": [
    "xs = np.linspace(-10, 10, num=101)\n",
    "ys = []\n",
    "for xval in xs:\n",
    "    p = limp.Problem()\n",
    "    # Force var x to a single value, then \"solve\" Huber_loss as the objective\n",
    "    x = p.contvar('x', xval, xval)\n",
    "    f = p.is_positive(x)\n",
    "    ys.append( p.minimize(f)['soln'].fun )\n",
    "\n",
    "plt.plot(xs, ys, '-o')"
   ]
  },
  {
   "cell_type": "code",
   "execution_count": null,
   "id": "5d92ded2-3b4c-447b-b771-41ac2d06f1f4",
   "metadata": {},
   "outputs": [],
   "source": [
    "xs = np.linspace(-10, 10, num=101)\n",
    "ys = []\n",
    "for xval in xs:\n",
    "    p = limp.Problem()\n",
    "    # Force var x to a single value, then \"solve\" Huber_loss as the objective\n",
    "    x = p.contvar('x', xval, xval)\n",
    "    f = p.sign(x)\n",
    "    ys.append( p.minimize(f)['soln'].fun )\n",
    "\n",
    "plt.plot(xs, ys, '-o')"
   ]
  },
  {
   "cell_type": "code",
   "execution_count": null,
   "id": "0eee7b2a-1c17-43b2-9233-d4317d7c01d7",
   "metadata": {},
   "outputs": [],
   "source": [
    "xs = np.linspace(-10, 10, num=101)\n",
    "ys = []\n",
    "for xval in xs:\n",
    "    p = limp.Problem()\n",
    "    # Force var x to a single value, then \"solve\" Huber_loss as the objective\n",
    "    x = p.contvar('x', xval, xval)\n",
    "    f = p.abs(x)\n",
    "    ys.append( p.minimize(f)['soln'].fun )\n",
    "\n",
    "plt.plot(xs, ys)"
   ]
  }
 ],
 "metadata": {
  "kernelspec": {
   "display_name": "Python 3 (ipykernel)",
   "language": "python",
   "name": "python3"
  },
  "language_info": {
   "codemirror_mode": {
    "name": "ipython",
    "version": 3
   },
   "file_extension": ".py",
   "mimetype": "text/x-python",
   "name": "python",
   "nbconvert_exporter": "python",
   "pygments_lexer": "ipython3",
   "version": "3.13.5"
  }
 },
 "nbformat": 4,
 "nbformat_minor": 5
}
