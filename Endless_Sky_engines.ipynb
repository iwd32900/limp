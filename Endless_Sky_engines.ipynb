{
 "cells": [
  {
   "cell_type": "code",
   "execution_count": null,
   "id": "1fbfaac2-e410-4c3e-bf96-6ba98b33acaa",
   "metadata": {},
   "outputs": [],
   "source": [
    "import numpy as np\n",
    "import limp\n",
    "\n",
    "import pandas as pd\n",
    "engines = pd.read_csv('Endless_Sky_engine_data.csv')"
   ]
  },
  {
   "cell_type": "markdown",
   "id": "67a9cb5c-57d1-40f1-b800-7936dd848bd8",
   "metadata": {},
   "source": [
    "# Endless Sky - engine choices"
   ]
  },
  {
   "cell_type": "markdown",
   "id": "236bee0b-fc9b-462d-a325-03d0fa01914d",
   "metadata": {
    "jp-MarkdownHeadingCollapsed": true
   },
   "source": [
    "## Weighted sum of thrust and turn\n",
    "Per [original blog post](https://shapr.github.io/posts/2019-07-10-smt-solvers.html)"
   ]
  },
  {
   "cell_type": "code",
   "execution_count": null,
   "id": "d35c341a-945d-4f2c-9cb5-e7cdd0740de0",
   "metadata": {},
   "outputs": [],
   "source": [
    "p = limp.Problem()\n",
    "obj = limp.Expr()\n",
    "total_cost = limp.Expr()\n",
    "max_cost = 210 # weight limit our ship can carry\n",
    "\n",
    "for row in engines.itertuples():\n",
    "    N_eng = p.intvar(row.name, 0, max_cost // row.weight)\n",
    "    obj += (row.thrust + row.turn/36)*N_eng\n",
    "    total_cost += row.weight * N_eng\n",
    "p.constraint(total_cost, max_cost)\n",
    "ans = p.maximize(obj)\n",
    "\n",
    "for eng, cnt in ans['by_name'].items():\n",
    "    if cnt > 0:\n",
    "        print(f'{cnt:.0f}    {eng}')\n",
    "x = ans['soln'].x\n",
    "print(f'Total cost:   {np.dot(engines.weight, x)} of {max_cost}')\n",
    "print(f'Total thrust: {np.dot(engines.thrust, x)}')\n",
    "print(f'Total turn:   {np.dot(engines.turn, x)}')"
   ]
  },
  {
   "cell_type": "markdown",
   "id": "dd35b4c6-cef6-463a-8477-1229f8ba7371",
   "metadata": {
    "jp-MarkdownHeadingCollapsed": true
   },
   "source": [
    "## Vectorized version"
   ]
  },
  {
   "cell_type": "code",
   "execution_count": null,
   "id": "c3bace18-219f-424b-9a7f-95b03a38b6a7",
   "metadata": {},
   "outputs": [],
   "source": [
    "p = limp.Problem()\n",
    "max_cost = 210 # weight limit our ship can carry\n",
    "\n",
    "N_eng = [p.intvar(row.name, 0, max_cost // row.weight) for row in engines.itertuples()]\n",
    "p.constraint( p.sum(N_eng, engines.weight), max_cost )\n",
    "ans = p.maximize(   p.sum(N_eng, engines.thrust + engines.turn/36) ) # 1534 + 40050\n",
    "# ans = p.maximize(   p.sum(N_eng, engines.thrust) ) # 2514\n",
    "# ans = p.maximize(   p.sum(N_eng, engines.turn) ) # 90660\n",
    "# max thurst vs max turn is indeed a 1:36 ratio...\n",
    "\n",
    "for eng, cnt in ans['by_name'].items():\n",
    "    if cnt > 0:\n",
    "        print(f'{cnt:.0f}    {eng}')\n",
    "x = ans['soln'].x\n",
    "print(f'Total cost:   {np.dot(engines.weight, x)} of {max_cost}')\n",
    "print(f'Total thrust: {np.dot(engines.thrust, x)}')\n",
    "print(f'Total turn:   {np.dot(engines.turn, x)/36}')"
   ]
  },
  {
   "cell_type": "markdown",
   "id": "4b0e2e55-27d6-48a1-a2f1-a0c62daf6cbd",
   "metadata": {
    "jp-MarkdownHeadingCollapsed": true
   },
   "source": [
    "## Balance thrust and turning with abs()\n",
    "\n",
    "If we try to balance thrust and (scaled) turning, there are a range of solutions that achieve a perfect balance.\n",
    "If we try to balance them and break ties by maximum thrust, there's a unique solution, but it takes longer to find.  The smaller the multiplier for total thrust, the longer the solution takes too:  1e-6 takes twice as long as 1e-3, for the same answer.  Weirdly, 1e-4 is MUCH slower than either one (3-6x)."
   ]
  },
  {
   "cell_type": "code",
   "execution_count": null,
   "id": "54c7c3d9-1b27-4245-a6d2-cb4c8b58c6e2",
   "metadata": {},
   "outputs": [],
   "source": [
    "p = limp.Problem()\n",
    "max_cost = 210 # weight limit our ship can carry\n",
    "min_cost = 0.75 * max_cost\n",
    "\n",
    "N_eng = [p.intvar(row.name, 0, max_cost // row.weight) for row in engines.itertuples()]\n",
    "p.constraint( min_cost, p.sum(N_eng, engines.weight), max_cost )\n",
    "tot_thrust = p.sum(N_eng, engines.thrust)\n",
    "balance = p.sum(N_eng, engines.thrust - engines.turn/36)\n",
    "abs_balance = p.abs(balance)\n",
    "# %time ans = p.minimize(abs_balance) # fast - 0.2 s\n",
    "%time ans = p.minimize(abs_balance - 1e-3*tot_thrust) # slower - 1.3 s\n",
    "\n",
    "x = []\n",
    "for eng in N_eng:\n",
    "    cnt = round(ans['by_var'][eng])\n",
    "    x.append(cnt)\n",
    "    if cnt > 0:\n",
    "        print(f'{cnt:.0f}    {eng.name}')\n",
    "print(f'Total cost:   {np.dot(engines.weight, x)} of {max_cost}')\n",
    "print(f'Total thrust: {np.dot(engines.thrust, x)}')\n",
    "print(f'Total turn:   {np.dot(engines.turn, x)/36}')\n",
    "# print(f'Objective:    {as_expr(abs_balance).eval(ans['by_var'])}')\n",
    "print(f'Objective:    {ans['by_var'][abs_balance]}')\n",
    "# print(f'Objective:    {ans['soln'].fun}')"
   ]
  },
  {
   "cell_type": "markdown",
   "id": "f17ef5ca-558d-4168-8625-0aace6b58001",
   "metadata": {
    "jp-MarkdownHeadingCollapsed": true
   },
   "source": [
    "## Balance thrust and turning with min()\n",
    "\n",
    "This increases both values because they don't have to be exactly equal!"
   ]
  },
  {
   "cell_type": "code",
   "execution_count": null,
   "id": "6030265b-4558-4f49-92d0-33d6c6e8bbe6",
   "metadata": {},
   "outputs": [],
   "source": [
    "p = limp.Problem()\n",
    "max_cost = 210 # weight limit our ship can carry\n",
    "\n",
    "N_eng = [p.intvar(row.name, 0, max_cost // row.weight) for row in engines.itertuples()]\n",
    "p.constraint( p.sum(N_eng, engines.weight), max_cost )\n",
    "tot_turn = p.contvar('total_turning', 0, 1e6)\n",
    "p.equal(tot_turn, p.sum(N_eng, engines.turn/36))\n",
    "tot_thrust = p.contvar('total_thrust', 0, 1e6)\n",
    "p.equal(tot_thrust, p.sum(N_eng, engines.thrust))\n",
    "balance = p.min([tot_turn, tot_thrust])\n",
    "%time ans = p.maximize(balance)\n",
    "\n",
    "print(ans['soln'].message)\n",
    "x = []\n",
    "for eng in N_eng:\n",
    "    cnt = round(ans['by_var'][eng])\n",
    "    x.append(cnt)\n",
    "    if cnt > 0:\n",
    "        print(f'{cnt:.0f}    {eng.name}')\n",
    "print(f'Total cost:   {np.dot(engines.weight, x)} of {max_cost}')\n",
    "print(f'Total thrust: {np.dot(engines.thrust, x)}')\n",
    "print(f'Total turn:   {np.dot(engines.turn, x)/36}')\n",
    "# print(f'Objective:    {as_expr(abs_balance).eval(ans['by_var'])}')\n",
    "print(f'Objective:    {ans['soln'].fun}')"
   ]
  },
  {
   "cell_type": "code",
   "execution_count": null,
   "id": "f058ed6d-88b6-4538-852b-d65bd83f3d34",
   "metadata": {},
   "outputs": [],
   "source": []
  }
 ],
 "metadata": {
  "kernelspec": {
   "display_name": "Python 3 (ipykernel)",
   "language": "python",
   "name": "python3"
  },
  "language_info": {
   "codemirror_mode": {
    "name": "ipython",
    "version": 3
   },
   "file_extension": ".py",
   "mimetype": "text/x-python",
   "name": "python",
   "nbconvert_exporter": "python",
   "pygments_lexer": "ipython3",
   "version": "3.13.5"
  }
 },
 "nbformat": 4,
 "nbformat_minor": 5
}
